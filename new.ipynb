{
  "cells": [
    {
      "cell_type": "code",
      "execution_count": 1,
      "metadata": {
        "colab": {
          "base_uri": "https://localhost:8080/"
        },
        "id": "eV_rMflfvn13",
        "outputId": "caed4afa-1c05-4aff-ef25-62dc464a7441"
      },
      "outputs": [
        {
          "output_type": "stream",
          "name": "stdout",
          "text": [
            "Collecting catboost\n",
            "  Downloading catboost-1.2.7-cp310-cp310-manylinux2014_x86_64.whl.metadata (1.2 kB)\n",
            "Requirement already satisfied: graphviz in /usr/local/lib/python3.10/dist-packages (from catboost) (0.20.3)\n",
            "Requirement already satisfied: matplotlib in /usr/local/lib/python3.10/dist-packages (from catboost) (3.8.0)\n",
            "Requirement already satisfied: numpy<2.0,>=1.16.0 in /usr/local/lib/python3.10/dist-packages (from catboost) (1.26.4)\n",
            "Requirement already satisfied: pandas>=0.24 in /usr/local/lib/python3.10/dist-packages (from catboost) (2.2.2)\n",
            "Requirement already satisfied: scipy in /usr/local/lib/python3.10/dist-packages (from catboost) (1.13.1)\n",
            "Requirement already satisfied: plotly in /usr/local/lib/python3.10/dist-packages (from catboost) (5.24.1)\n",
            "Requirement already satisfied: six in /usr/local/lib/python3.10/dist-packages (from catboost) (1.16.0)\n",
            "Requirement already satisfied: python-dateutil>=2.8.2 in /usr/local/lib/python3.10/dist-packages (from pandas>=0.24->catboost) (2.8.2)\n",
            "Requirement already satisfied: pytz>=2020.1 in /usr/local/lib/python3.10/dist-packages (from pandas>=0.24->catboost) (2024.2)\n",
            "Requirement already satisfied: tzdata>=2022.7 in /usr/local/lib/python3.10/dist-packages (from pandas>=0.24->catboost) (2024.2)\n",
            "Requirement already satisfied: contourpy>=1.0.1 in /usr/local/lib/python3.10/dist-packages (from matplotlib->catboost) (1.3.0)\n",
            "Requirement already satisfied: cycler>=0.10 in /usr/local/lib/python3.10/dist-packages (from matplotlib->catboost) (0.12.1)\n",
            "Requirement already satisfied: fonttools>=4.22.0 in /usr/local/lib/python3.10/dist-packages (from matplotlib->catboost) (4.54.1)\n",
            "Requirement already satisfied: kiwisolver>=1.0.1 in /usr/local/lib/python3.10/dist-packages (from matplotlib->catboost) (1.4.7)\n",
            "Requirement already satisfied: packaging>=20.0 in /usr/local/lib/python3.10/dist-packages (from matplotlib->catboost) (24.1)\n",
            "Requirement already satisfied: pillow>=6.2.0 in /usr/local/lib/python3.10/dist-packages (from matplotlib->catboost) (10.4.0)\n",
            "Requirement already satisfied: pyparsing>=2.3.1 in /usr/local/lib/python3.10/dist-packages (from matplotlib->catboost) (3.2.0)\n",
            "Requirement already satisfied: tenacity>=6.2.0 in /usr/local/lib/python3.10/dist-packages (from plotly->catboost) (9.0.0)\n",
            "Downloading catboost-1.2.7-cp310-cp310-manylinux2014_x86_64.whl (98.7 MB)\n",
            "\u001b[2K   \u001b[90m━━━━━━━━━━━━━━━━━━━━━━━━━━━━━━━━━━━━━━━━\u001b[0m \u001b[32m98.7/98.7 MB\u001b[0m \u001b[31m10.7 MB/s\u001b[0m eta \u001b[36m0:00:00\u001b[0m\n",
            "\u001b[?25hInstalling collected packages: catboost\n",
            "Successfully installed catboost-1.2.7\n",
            "Collecting category_encoders\n",
            "  Downloading category_encoders-2.6.4-py2.py3-none-any.whl.metadata (8.0 kB)\n",
            "Requirement already satisfied: numpy>=1.14.0 in /usr/local/lib/python3.10/dist-packages (from category_encoders) (1.26.4)\n",
            "Requirement already satisfied: scikit-learn>=0.20.0 in /usr/local/lib/python3.10/dist-packages (from category_encoders) (1.5.2)\n",
            "Requirement already satisfied: scipy>=1.0.0 in /usr/local/lib/python3.10/dist-packages (from category_encoders) (1.13.1)\n",
            "Requirement already satisfied: statsmodels>=0.9.0 in /usr/local/lib/python3.10/dist-packages (from category_encoders) (0.14.4)\n",
            "Requirement already satisfied: pandas>=1.0.5 in /usr/local/lib/python3.10/dist-packages (from category_encoders) (2.2.2)\n",
            "Requirement already satisfied: patsy>=0.5.1 in /usr/local/lib/python3.10/dist-packages (from category_encoders) (0.5.6)\n",
            "Requirement already satisfied: python-dateutil>=2.8.2 in /usr/local/lib/python3.10/dist-packages (from pandas>=1.0.5->category_encoders) (2.8.2)\n",
            "Requirement already satisfied: pytz>=2020.1 in /usr/local/lib/python3.10/dist-packages (from pandas>=1.0.5->category_encoders) (2024.2)\n",
            "Requirement already satisfied: tzdata>=2022.7 in /usr/local/lib/python3.10/dist-packages (from pandas>=1.0.5->category_encoders) (2024.2)\n",
            "Requirement already satisfied: six in /usr/local/lib/python3.10/dist-packages (from patsy>=0.5.1->category_encoders) (1.16.0)\n",
            "Requirement already satisfied: joblib>=1.2.0 in /usr/local/lib/python3.10/dist-packages (from scikit-learn>=0.20.0->category_encoders) (1.4.2)\n",
            "Requirement already satisfied: threadpoolctl>=3.1.0 in /usr/local/lib/python3.10/dist-packages (from scikit-learn>=0.20.0->category_encoders) (3.5.0)\n",
            "Requirement already satisfied: packaging>=21.3 in /usr/local/lib/python3.10/dist-packages (from statsmodels>=0.9.0->category_encoders) (24.1)\n",
            "Downloading category_encoders-2.6.4-py2.py3-none-any.whl (82 kB)\n",
            "\u001b[2K   \u001b[90m━━━━━━━━━━━━━━━━━━━━━━━━━━━━━━━━━━━━━━━━\u001b[0m \u001b[32m82.0/82.0 kB\u001b[0m \u001b[31m1.8 MB/s\u001b[0m eta \u001b[36m0:00:00\u001b[0m\n",
            "\u001b[?25hInstalling collected packages: category_encoders\n",
            "Successfully installed category_encoders-2.6.4\n"
          ]
        }
      ],
      "source": [
        "!pip install catboost\n",
        "!pip install category_encoders"
      ]
    },
    {
      "cell_type": "code",
      "execution_count": 2,
      "metadata": {
        "colab": {
          "base_uri": "https://localhost:8080/"
        },
        "id": "_LfQ9_FWvtWw",
        "outputId": "7d0124de-781d-4abd-bf38-72aebc0a4c10"
      },
      "outputs": [
        {
          "output_type": "stream",
          "name": "stderr",
          "text": [
            "/usr/local/lib/python3.10/dist-packages/dask/dataframe/__init__.py:42: FutureWarning: \n",
            "Dask dataframe query planning is disabled because dask-expr is not installed.\n",
            "\n",
            "You can install it with `pip install dask[dataframe]` or `conda install dask`.\n",
            "This will raise in a future version.\n",
            "\n",
            "  warnings.warn(msg, FutureWarning)\n"
          ]
        }
      ],
      "source": [
        "from sklearn.ensemble import StackingClassifier\n",
        "from sklearn.metrics import accuracy_score, f1_score\n",
        "from catboost import CatBoostClassifier\n",
        "import lightgbm as lgb # Define CatBoost model\n",
        "import pandas as pd\n",
        "from sklearn.model_selection import train_test_split\n",
        "import catboost\n",
        "import lightgbm as lgb\n",
        "from sklearn.ensemble import StackingClassifier\n",
        "from sklearn.model_selection import train_test_split, StratifiedKFold\n",
        "from sklearn.metrics import f1_score\n",
        "from sklearn.pipeline import Pipeline\n",
        "from sklearn.preprocessing import StandardScaler\n",
        "from sklearn.impute import SimpleImputer\n",
        "from sklearn.compose import ColumnTransformer\n",
        "from sklearn.preprocessing import OneHotEncoder\n",
        "from catboost import CatBoostClassifier\n",
        "from imblearn.over_sampling import SMOTE"
      ]
    },
    {
      "cell_type": "code",
      "execution_count": 3,
      "metadata": {
        "id": "JdF8VTP4v2xB"
      },
      "outputs": [],
      "source": [
        "train = pd.read_csv('train.csv')"
      ]
    },
    {
      "cell_type": "code",
      "execution_count": 4,
      "metadata": {
        "colab": {
          "base_uri": "https://localhost:8080/"
        },
        "id": "8dO7CdhqwBvN",
        "outputId": "b14d2923-b949-4a53-aabd-b9d6ed089349"
      },
      "outputs": [
        {
          "output_type": "execute_result",
          "data": {
            "text/plain": [
              "(23738, 37)"
            ]
          },
          "metadata": {},
          "execution_count": 4
        }
      ],
      "source": [
        "train.shape"
      ]
    },
    {
      "cell_type": "code",
      "execution_count": 5,
      "metadata": {
        "id": "nM091tbOwChq"
      },
      "outputs": [],
      "source": [
        "x = train.isnull().sum().reset_index(name = 'count')\n",
        "# cols_remove = list(x[x['count'] >= 4000]['index'])\n",
        "# cols_remove =\n",
        "cols_remove = ['feature_15', 'feature_29']"
      ]
    },
    {
      "cell_type": "code",
      "execution_count": 6,
      "metadata": {
        "colab": {
          "base_uri": "https://localhost:8080/"
        },
        "id": "XYNQpQHTwDJb",
        "outputId": "b54dc451-fc9f-4051-944b-061b7e9d7838"
      },
      "outputs": [
        {
          "output_type": "execute_result",
          "data": {
            "text/plain": [
              "(23738, 35)"
            ]
          },
          "metadata": {},
          "execution_count": 6
        }
      ],
      "source": [
        "train = train.drop(columns = cols_remove)\n",
        "train.shape"
      ]
    },
    {
      "cell_type": "code",
      "source": [
        "test = pd.read_csv('test.csv')\n",
        "print(test.shape)\n",
        "test = test.drop(columns = cols_remove)"
      ],
      "metadata": {
        "id": "bwSSmNzwYpPR",
        "outputId": "6d83f781-1f62-43de-c4a9-fe26fdaa38fe",
        "colab": {
          "base_uri": "https://localhost:8080/"
        }
      },
      "execution_count": 19,
      "outputs": [
        {
          "output_type": "stream",
          "name": "stdout",
          "text": [
            "(8902, 36)\n"
          ]
        }
      ]
    },
    {
      "cell_type": "code",
      "source": [
        "test = test.drop(columns = ['id'])\n",
        "test.shape"
      ],
      "metadata": {
        "id": "mQLgocXXYtEW",
        "outputId": "775e6bd7-5300-4d09-b533-bc698c454543",
        "colab": {
          "base_uri": "https://localhost:8080/"
        }
      },
      "execution_count": 21,
      "outputs": [
        {
          "output_type": "execute_result",
          "data": {
            "text/plain": [
              "(8902, 33)"
            ]
          },
          "metadata": {},
          "execution_count": 21
        }
      ]
    },
    {
      "cell_type": "code",
      "source": [],
      "metadata": {
        "id": "Ko4nWyXfZC0d"
      },
      "execution_count": null,
      "outputs": []
    },
    {
      "cell_type": "code",
      "execution_count": 7,
      "metadata": {
        "id": "K_JLhqAPwFHS"
      },
      "outputs": [],
      "source": [
        "x = train.drop(columns = ['id','level'])\n",
        "y = train['level']"
      ]
    },
    {
      "cell_type": "code",
      "execution_count": 8,
      "metadata": {
        "id": "mzqfKn5EwHLb"
      },
      "outputs": [],
      "source": [
        "categorical_features = x.select_dtypes(include=['object']).columns.tolist()\n",
        "for col in categorical_features:\n",
        "    x[col] = x[col].fillna('Others')"
      ]
    },
    {
      "cell_type": "code",
      "execution_count": 9,
      "metadata": {
        "id": "TCqZsKCGwJK8"
      },
      "outputs": [],
      "source": [
        "from category_encoders import TargetEncoder\n",
        "from sklearn.impute import KNNImputer\n",
        "numerical_features = x.select_dtypes(include=['number']).columns.tolist()\n",
        "# numerical_features.remove('level')  # Exclude 'level' from numerical features\n",
        "# numerical_features.remove('id')\n",
        "categorical_features = x.select_dtypes(include=['object']).columns.tolist()\n",
        "\n",
        "# Create preprocessing pipelines for numerical and categorical features\n",
        "numerical_pipeline = Pipeline([\n",
        "    ('knn_imputer', KNNImputer(n_neighbors=5)),\n",
        "    ('scaler', StandardScaler()),\n",
        "])\n",
        "\n",
        "categorical_pipeline = Pipeline([\n",
        "    # ('imputer', SimpleImputer(strategy = 'most_frequent')),\n",
        "    ('target_encoder', TargetEncoder(handle_unknown='ignore')),  # Using TargetEncoder\n",
        "])\n",
        "\n",
        "# Combine the pipelines using ColumnTransformer\n",
        "preprocessor = ColumnTransformer(\n",
        "    transformers=[\n",
        "        ('num', numerical_pipeline, numerical_features),\n",
        "        ('cat', categorical_pipeline, categorical_features),\n",
        "    ])\n",
        "\n",
        "# Create a pipeline with the preprocessor and your model\n",
        "pipeline = Pipeline([\n",
        "    ('preprocessor', preprocessor),\n",
        "    # ('classifier', YourClassifier()),  # Add your classifier here\n",
        "])\n",
        "x_train, x_test, y_train, y_test = train_test_split(x, y,  # Pass the DataFrame 'x' here\n",
        "                                                    test_size=0.2,\n",
        "                                                    random_state=43,\n",
        "                                                    stratify=y)\n",
        "cols = x_train.columns\n",
        "# Fit the pipeline to the training data\n",
        "pipeline.fit(x, y)  # Now 'x_train' is a DataFrame\n",
        "\n",
        "# Transform the data\n",
        "x_train = pipeline.transform(x_train)  # These will now be NumPy arrays\n",
        "x_test = pipeline.transform(x_test)"
      ]
    },
    {
      "cell_type": "code",
      "execution_count": 10,
      "metadata": {
        "id": "e0OHIR1OwLRu"
      },
      "outputs": [],
      "source": [
        "x = pipeline.transform(x)"
      ]
    },
    {
      "cell_type": "code",
      "execution_count": 11,
      "metadata": {
        "id": "TPewVf7kwNZi"
      },
      "outputs": [],
      "source": [
        "cb = CatBoostClassifier(n_estimators=4000,\n",
        "                         one_hot_max_size=2,\n",
        "                         loss_function='MultiClass',\n",
        "                         eval_metric='WKappa',\n",
        "                         early_stopping_rounds=10,\n",
        "                         task_type='CPU',\n",
        "                         random_seed=5,\n",
        "                         silent=True\n",
        "                        )"
      ]
    },
    {
      "cell_type": "code",
      "execution_count": 12,
      "metadata": {
        "colab": {
          "base_uri": "https://localhost:8080/"
        },
        "id": "gmV_9QVhwUDU",
        "outputId": "86daacf2-3145-47b1-e98a-c67c71f4cfdb"
      },
      "outputs": [
        {
          "output_type": "execute_result",
          "data": {
            "text/plain": [
              "<catboost.core.CatBoostClassifier at 0x7f02b65f85e0>"
            ]
          },
          "metadata": {},
          "execution_count": 12
        }
      ],
      "source": [
        "cb.fit(x_train, y_train)"
      ]
    },
    {
      "cell_type": "code",
      "execution_count": 13,
      "metadata": {
        "colab": {
          "base_uri": "https://localhost:8080/"
        },
        "id": "W5I0XbeSwW9d",
        "outputId": "4e4cad0d-a80f-4e5e-90a7-02adb72b285b"
      },
      "outputs": [
        {
          "output_type": "stream",
          "name": "stdout",
          "text": [
            "F1 Score: 0.7000649195470586\n"
          ]
        }
      ],
      "source": [
        "# Make predictions\n",
        "y_pred = cb.predict(x_test)\n",
        "\n",
        "# Calculate and print the F1 score\n",
        "current_f1_score = f1_score(y_test, y_pred, average='weighted')\n",
        "print(f'F1 Score: {current_f1_score}')"
      ]
    },
    {
      "cell_type": "code",
      "execution_count": 16,
      "metadata": {
        "colab": {
          "base_uri": "https://localhost:8080/"
        },
        "id": "M8tIwZZuwZPF",
        "outputId": "ddbcd7b4-3c9c-475c-ed4d-0a5fcc5d3668"
      },
      "outputs": [
        {
          "output_type": "stream",
          "name": "stdout",
          "text": [
            "100%|██████████| 20/20 [29:25<00:00, 88.28s/trial, best loss: -0.7065286968801414]\n",
            "Best hyperparameters: {'border_count': 47.0, 'depth': 6.0, 'l2_leaf_reg': 4.715289347491913, 'learning_rate': 0.0186554539121335, 'n_estimators': 2000.0}\n",
            "{'border_count': 47.0, 'depth': 6.0, 'l2_leaf_reg': 4.715289347491913, 'learning_rate': 0.0186554539121335, 'n_estimators': 2000.0}\n"
          ]
        },
        {
          "output_type": "execute_result",
          "data": {
            "text/plain": [
              "<catboost.core.CatBoostClassifier at 0x7f02b6132c50>"
            ]
          },
          "metadata": {},
          "execution_count": 16
        }
      ],
      "source": [
        "from hyperopt import fmin, tpe, hp, STATUS_OK, Trials\n",
        "from catboost import CatBoostClassifier\n",
        "from sklearn.metrics import cohen_kappa_score, f1_score\n",
        "\n",
        "# Define the search space\n",
        "space = {\n",
        "    'n_estimators': hp.quniform('n_estimators', 1000, 5000, 1000),\n",
        "    'learning_rate': hp.loguniform('learning_rate', -5, 0),\n",
        "    'depth': hp.quniform('depth', 4, 10, 1),\n",
        "    'l2_leaf_reg': hp.uniform('l2_leaf_reg', 1, 10),\n",
        "    'border_count': hp.quniform('border_count', 32, 255, 1),\n",
        "}\n",
        "\n",
        "# Define the objective function\n",
        "def objective(params):\n",
        "    params['loss_function'] = 'MultiClass'\n",
        "    params['eval_metric'] = 'WKappa'\n",
        "    params['random_seed'] = 42\n",
        "    params['task_type'] = 'CPU'\n",
        "    params['verbose'] = False\n",
        "\n",
        "    model = CatBoostClassifier(**params)\n",
        "    model.fit(x_train, y_train)  # Fit on training data\n",
        "    y_pred = model.predict(x_test)  # Predict on test data\n",
        "    score = f1_score(y_test, y_pred, average='weighted')  # Calculate weighted Kappa\n",
        "\n",
        "    return {'loss': -score, 'status': STATUS_OK}  # Minimize negative Kappa\n",
        "\n",
        "# Run Hyperopt\n",
        "trials = Trials()\n",
        "best = fmin(fn=objective,\n",
        "            space=space,\n",
        "            algo=tpe.suggest,\n",
        "            max_evals=20,\n",
        "            trials=trials)\n",
        "\n",
        "# Print the best hyperparameters\n",
        "print(\"Best hyperparameters:\", best)\n",
        "\n",
        "# Train the final model with the best hyperparameters\n",
        "best_params = {k: int(v) if type(v) == float and v.is_equal(int(v)) else v for k, v in best.items()}\n",
        "print(best_params)\n",
        "best_model = CatBoostClassifier(**best_params, loss_function='MultiClass', eval_metric='WKappa', random_seed=42, task_type='CPU', verbose=False)\n",
        "best_model.fit(x_train, y_train)  # Fit the final model on training data"
      ]
    },
    {
      "cell_type": "code",
      "execution_count": 17,
      "metadata": {
        "id": "jBrcW72CxZb3",
        "colab": {
          "base_uri": "https://localhost:8080/"
        },
        "outputId": "8149e7b6-3154-4fbd-aaab-76efa1a34422"
      },
      "outputs": [
        {
          "output_type": "stream",
          "name": "stdout",
          "text": [
            "F1 Score: 0.7065286968801414\n"
          ]
        }
      ],
      "source": [
        "y_pred = best_model.predict(x_test)\n",
        "\n",
        "# Calculate and print the F1 score\n",
        "current_f1_score = f1_score(y_test, y_pred, average='weighted')\n",
        "print(f'F1 Score: {current_f1_score}')"
      ]
    },
    {
      "cell_type": "code",
      "source": [
        "categorical_features = test.select_dtypes(include=['object']).columns.tolist()\n",
        "for col in categorical_features:\n",
        "    test[col] = test[col].fillna('Others')"
      ],
      "metadata": {
        "id": "dTiNxhx9ZGfD"
      },
      "execution_count": 22,
      "outputs": []
    },
    {
      "cell_type": "code",
      "source": [
        "test = pipeline.transform(test)\n",
        "len(test)"
      ],
      "metadata": {
        "id": "O_Vif9iaZP1D",
        "outputId": "f3634f86-9a52-402d-d13f-5fd1d85a1acf",
        "colab": {
          "base_uri": "https://localhost:8080/"
        }
      },
      "execution_count": 24,
      "outputs": [
        {
          "output_type": "execute_result",
          "data": {
            "text/plain": [
              "8902"
            ]
          },
          "metadata": {},
          "execution_count": 24
        }
      ]
    },
    {
      "cell_type": "code",
      "execution_count": 25,
      "metadata": {
        "id": "Wu648MvUzIvT"
      },
      "outputs": [],
      "source": [
        "from sklearn.model_selection import StratifiedKFold\n",
        "from sklearn.metrics import f1_score\n",
        "import numpy as np\n",
        "\n",
        "n_splits = 5\n",
        "skf = StratifiedKFold(n_splits=n_splits, shuffle=True, random_state=42)\n",
        "\n",
        "# 2. Build OOF Predictions and 3. Generate Test Predictions\n",
        "oof_predictions = np.zeros(len(x))\n",
        "test_predictions = []  # List to store predictions for each fold"
      ]
    },
    {
      "cell_type": "code",
      "source": [
        "for fold, (train_index, val_index) in enumerate(skf.split(x, y)):\n",
        "    print(f\"Fold {fold + 1}/{n_splits}\")\n",
        "    X_train, X_val = x[train_index], x[val_index]\n",
        "    y_train, y_val = y[train_index], y[val_index]\n",
        "\n",
        "    # Initialize and train your model\n",
        "    model = CatBoostClassifier(**best_params, loss_function='MultiClass', eval_metric='WKappa', random_seed=42, task_type='CPU', verbose=False)\n",
        "    model.fit(X_train, y_train)\n",
        "\n",
        "    # Predict on validation set for OOF predictions\n",
        "    oof_predictions[val_index] = model.predict(X_val).reshape(-1)\n",
        "\n",
        "    # Predict on test set and store predictions for this fold\n",
        "    test_predictions.append(model.predict_proba(test))"
      ],
      "metadata": {
        "id": "-jEpjbQGYY3n",
        "outputId": "72fd4486-a827-4fe6-ffdc-cbda3878ea0c",
        "colab": {
          "base_uri": "https://localhost:8080/"
        }
      },
      "execution_count": 26,
      "outputs": [
        {
          "output_type": "stream",
          "name": "stdout",
          "text": [
            "Fold 1/5\n",
            "Fold 2/5\n",
            "Fold 3/5\n",
            "Fold 4/5\n",
            "Fold 5/5\n"
          ]
        }
      ]
    },
    {
      "cell_type": "code",
      "source": [
        "cv_score = f1_score(y, oof_predictions, average='weighted')\n",
        "print(f\"Cross-Validation F1 Score: {cv_score}\")"
      ],
      "metadata": {
        "id": "7TUgLpARZRZj",
        "outputId": "5f40f3d5-df54-4301-e619-9923d73cc6d6",
        "colab": {
          "base_uri": "https://localhost:8080/"
        }
      },
      "execution_count": 27,
      "outputs": [
        {
          "output_type": "stream",
          "name": "stdout",
          "text": [
            "Cross-Validation F1 Score: 0.7012691524660216\n"
          ]
        }
      ]
    },
    {
      "cell_type": "code",
      "source": [
        "final_test_predictions = np.mean(test_predictions, axis = 0)"
      ],
      "metadata": {
        "id": "0p8kdlQkbGwb"
      },
      "execution_count": 28,
      "outputs": []
    },
    {
      "cell_type": "code",
      "source": [
        "final_test_class = np.argmax(final_test_predictions, axis=1)"
      ],
      "metadata": {
        "id": "FITj_7webLHb"
      },
      "execution_count": 29,
      "outputs": []
    },
    {
      "cell_type": "code",
      "source": [
        "len(final_test_class)"
      ],
      "metadata": {
        "id": "Z34V45LfbM74",
        "outputId": "71ec4e3d-5b87-45d0-d776-ff8ad2f6a38a",
        "colab": {
          "base_uri": "https://localhost:8080/"
        }
      },
      "execution_count": 30,
      "outputs": [
        {
          "output_type": "execute_result",
          "data": {
            "text/plain": [
              "8902"
            ]
          },
          "metadata": {},
          "execution_count": 30
        }
      ]
    },
    {
      "cell_type": "code",
      "source": [
        "submission = pd.read_csv('sample_submission.csv')"
      ],
      "metadata": {
        "id": "kyCbPCjebOIP"
      },
      "execution_count": 31,
      "outputs": []
    },
    {
      "cell_type": "code",
      "source": [
        "submission['level'] = final_test_class"
      ],
      "metadata": {
        "id": "q3IujvaobRCN"
      },
      "execution_count": 32,
      "outputs": []
    },
    {
      "cell_type": "code",
      "source": [
        "submission['level'].value_counts(normalize = True)"
      ],
      "metadata": {
        "id": "s2xEFmN9bSqr",
        "outputId": "52be5d62-bb21-49c4-9e28-8392d3e45e5a",
        "colab": {
          "base_uri": "https://localhost:8080/",
          "height": 241
        }
      },
      "execution_count": 33,
      "outputs": [
        {
          "output_type": "execute_result",
          "data": {
            "text/plain": [
              "level\n",
              "0    0.539542\n",
              "1    0.265109\n",
              "3    0.185689\n",
              "2    0.009661\n",
              "Name: proportion, dtype: float64"
            ],
            "text/html": [
              "<div>\n",
              "<style scoped>\n",
              "    .dataframe tbody tr th:only-of-type {\n",
              "        vertical-align: middle;\n",
              "    }\n",
              "\n",
              "    .dataframe tbody tr th {\n",
              "        vertical-align: top;\n",
              "    }\n",
              "\n",
              "    .dataframe thead th {\n",
              "        text-align: right;\n",
              "    }\n",
              "</style>\n",
              "<table border=\"1\" class=\"dataframe\">\n",
              "  <thead>\n",
              "    <tr style=\"text-align: right;\">\n",
              "      <th></th>\n",
              "      <th>proportion</th>\n",
              "    </tr>\n",
              "    <tr>\n",
              "      <th>level</th>\n",
              "      <th></th>\n",
              "    </tr>\n",
              "  </thead>\n",
              "  <tbody>\n",
              "    <tr>\n",
              "      <th>0</th>\n",
              "      <td>0.539542</td>\n",
              "    </tr>\n",
              "    <tr>\n",
              "      <th>1</th>\n",
              "      <td>0.265109</td>\n",
              "    </tr>\n",
              "    <tr>\n",
              "      <th>3</th>\n",
              "      <td>0.185689</td>\n",
              "    </tr>\n",
              "    <tr>\n",
              "      <th>2</th>\n",
              "      <td>0.009661</td>\n",
              "    </tr>\n",
              "  </tbody>\n",
              "</table>\n",
              "</div><br><label><b>dtype:</b> float64</label>"
            ]
          },
          "metadata": {},
          "execution_count": 33
        }
      ]
    },
    {
      "cell_type": "code",
      "source": [
        "submission.to_csv('submission.csv', index = False)"
      ],
      "metadata": {
        "id": "5KUyyCUzbUV-"
      },
      "execution_count": 34,
      "outputs": []
    },
    {
      "cell_type": "code",
      "source": [],
      "metadata": {
        "id": "5ly38BzNbXhs"
      },
      "execution_count": null,
      "outputs": []
    }
  ],
  "metadata": {
    "colab": {
      "provenance": [],
      "gpuType": "T4"
    },
    "kernelspec": {
      "display_name": "Python 3",
      "name": "python3"
    },
    "language_info": {
      "name": "python"
    },
    "accelerator": "GPU"
  },
  "nbformat": 4,
  "nbformat_minor": 0
}